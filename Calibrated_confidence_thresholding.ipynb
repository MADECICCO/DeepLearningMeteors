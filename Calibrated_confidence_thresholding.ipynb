{
  "nbformat": 4,
  "nbformat_minor": 0,
  "metadata": {
    "colab": {
      "name": "Calibrated confidence thresholding.ipynb",
      "provenance": [],
      "collapsed_sections": [],
      "include_colab_link": true
    },
    "kernelspec": {
      "name": "python3",
      "display_name": "Python 3"
    },
    "accelerator": "GPU",
    "widgets": {
      "application/vnd.jupyter.widget-state+json": {
        "34da1ce583f4447999c6121b83508251": {
          "model_module": "@jupyter-widgets/controls",
          "model_name": "HBoxModel",
          "state": {
            "_view_name": "HBoxView",
            "_dom_classes": [],
            "_model_name": "HBoxModel",
            "_view_module": "@jupyter-widgets/controls",
            "_model_module_version": "1.5.0",
            "_view_count": null,
            "_view_module_version": "1.5.0",
            "box_style": "",
            "layout": "IPY_MODEL_545671b7b0274527b66abd2631539d5a",
            "_model_module": "@jupyter-widgets/controls",
            "children": [
              "IPY_MODEL_0d74d704a7424a68abaeb0de88227547",
              "IPY_MODEL_4888a8ae19034cb48a81116efb5a54ae"
            ]
          }
        },
        "545671b7b0274527b66abd2631539d5a": {
          "model_module": "@jupyter-widgets/base",
          "model_name": "LayoutModel",
          "state": {
            "_view_name": "LayoutView",
            "grid_template_rows": null,
            "right": null,
            "justify_content": null,
            "_view_module": "@jupyter-widgets/base",
            "overflow": null,
            "_model_module_version": "1.2.0",
            "_view_count": null,
            "flex_flow": null,
            "width": null,
            "min_width": null,
            "border": null,
            "align_items": null,
            "bottom": null,
            "_model_module": "@jupyter-widgets/base",
            "top": null,
            "grid_column": null,
            "overflow_y": null,
            "overflow_x": null,
            "grid_auto_flow": null,
            "grid_area": null,
            "grid_template_columns": null,
            "flex": null,
            "_model_name": "LayoutModel",
            "justify_items": null,
            "grid_row": null,
            "max_height": null,
            "align_content": null,
            "visibility": null,
            "align_self": null,
            "height": null,
            "min_height": null,
            "padding": null,
            "grid_auto_rows": null,
            "grid_gap": null,
            "max_width": null,
            "order": null,
            "_view_module_version": "1.2.0",
            "grid_template_areas": null,
            "object_position": null,
            "object_fit": null,
            "grid_auto_columns": null,
            "margin": null,
            "display": null,
            "left": null
          }
        },
        "0d74d704a7424a68abaeb0de88227547": {
          "model_module": "@jupyter-widgets/controls",
          "model_name": "FloatProgressModel",
          "state": {
            "_view_name": "ProgressView",
            "style": "IPY_MODEL_7b84e886769644f48c14e18495ce6ef7",
            "_dom_classes": [],
            "description": "100%",
            "_model_name": "FloatProgressModel",
            "bar_style": "success",
            "max": 102502400,
            "_view_module": "@jupyter-widgets/controls",
            "_model_module_version": "1.5.0",
            "value": 102502400,
            "_view_count": null,
            "_view_module_version": "1.5.0",
            "orientation": "horizontal",
            "min": 0,
            "description_tooltip": null,
            "_model_module": "@jupyter-widgets/controls",
            "layout": "IPY_MODEL_89294bf23a844064980833b5d638821a"
          }
        },
        "4888a8ae19034cb48a81116efb5a54ae": {
          "model_module": "@jupyter-widgets/controls",
          "model_name": "HTMLModel",
          "state": {
            "_view_name": "HTMLView",
            "style": "IPY_MODEL_c663d57d470b46f7843dedc211f40159",
            "_dom_classes": [],
            "description": "",
            "_model_name": "HTMLModel",
            "placeholder": "​",
            "_view_module": "@jupyter-widgets/controls",
            "_model_module_version": "1.5.0",
            "value": " 97.8M/97.8M [02:20&lt;00:00, 728kB/s]",
            "_view_count": null,
            "_view_module_version": "1.5.0",
            "description_tooltip": null,
            "_model_module": "@jupyter-widgets/controls",
            "layout": "IPY_MODEL_ce206c74395d40eca014012299f95ff4"
          }
        },
        "7b84e886769644f48c14e18495ce6ef7": {
          "model_module": "@jupyter-widgets/controls",
          "model_name": "ProgressStyleModel",
          "state": {
            "_view_name": "StyleView",
            "_model_name": "ProgressStyleModel",
            "description_width": "initial",
            "_view_module": "@jupyter-widgets/base",
            "_model_module_version": "1.5.0",
            "_view_count": null,
            "_view_module_version": "1.2.0",
            "bar_color": null,
            "_model_module": "@jupyter-widgets/controls"
          }
        },
        "89294bf23a844064980833b5d638821a": {
          "model_module": "@jupyter-widgets/base",
          "model_name": "LayoutModel",
          "state": {
            "_view_name": "LayoutView",
            "grid_template_rows": null,
            "right": null,
            "justify_content": null,
            "_view_module": "@jupyter-widgets/base",
            "overflow": null,
            "_model_module_version": "1.2.0",
            "_view_count": null,
            "flex_flow": null,
            "width": null,
            "min_width": null,
            "border": null,
            "align_items": null,
            "bottom": null,
            "_model_module": "@jupyter-widgets/base",
            "top": null,
            "grid_column": null,
            "overflow_y": null,
            "overflow_x": null,
            "grid_auto_flow": null,
            "grid_area": null,
            "grid_template_columns": null,
            "flex": null,
            "_model_name": "LayoutModel",
            "justify_items": null,
            "grid_row": null,
            "max_height": null,
            "align_content": null,
            "visibility": null,
            "align_self": null,
            "height": null,
            "min_height": null,
            "padding": null,
            "grid_auto_rows": null,
            "grid_gap": null,
            "max_width": null,
            "order": null,
            "_view_module_version": "1.2.0",
            "grid_template_areas": null,
            "object_position": null,
            "object_fit": null,
            "grid_auto_columns": null,
            "margin": null,
            "display": null,
            "left": null
          }
        },
        "c663d57d470b46f7843dedc211f40159": {
          "model_module": "@jupyter-widgets/controls",
          "model_name": "DescriptionStyleModel",
          "state": {
            "_view_name": "StyleView",
            "_model_name": "DescriptionStyleModel",
            "description_width": "",
            "_view_module": "@jupyter-widgets/base",
            "_model_module_version": "1.5.0",
            "_view_count": null,
            "_view_module_version": "1.2.0",
            "_model_module": "@jupyter-widgets/controls"
          }
        },
        "ce206c74395d40eca014012299f95ff4": {
          "model_module": "@jupyter-widgets/base",
          "model_name": "LayoutModel",
          "state": {
            "_view_name": "LayoutView",
            "grid_template_rows": null,
            "right": null,
            "justify_content": null,
            "_view_module": "@jupyter-widgets/base",
            "overflow": null,
            "_model_module_version": "1.2.0",
            "_view_count": null,
            "flex_flow": null,
            "width": null,
            "min_width": null,
            "border": null,
            "align_items": null,
            "bottom": null,
            "_model_module": "@jupyter-widgets/base",
            "top": null,
            "grid_column": null,
            "overflow_y": null,
            "overflow_x": null,
            "grid_auto_flow": null,
            "grid_area": null,
            "grid_template_columns": null,
            "flex": null,
            "_model_name": "LayoutModel",
            "justify_items": null,
            "grid_row": null,
            "max_height": null,
            "align_content": null,
            "visibility": null,
            "align_self": null,
            "height": null,
            "min_height": null,
            "padding": null,
            "grid_auto_rows": null,
            "grid_gap": null,
            "max_width": null,
            "order": null,
            "_view_module_version": "1.2.0",
            "grid_template_areas": null,
            "object_position": null,
            "object_fit": null,
            "grid_auto_columns": null,
            "margin": null,
            "display": null,
            "left": null
          }
        }
      }
    }
  },
  "cells": [
    {
      "cell_type": "markdown",
      "metadata": {
        "id": "view-in-github",
        "colab_type": "text"
      },
      "source": [
        "<a href=\"https://colab.research.google.com/github/yurigalindo/DeepLearningMeteors/blob/master/Calibrated_confidence_thresholding.ipynb\" target=\"_parent\"><img src=\"https://colab.research.google.com/assets/colab-badge.svg\" alt=\"Open In Colab\"/></a>"
      ]
    },
    {
      "cell_type": "code",
      "metadata": {
        "id": "VLKiu8z3Or52",
        "colab_type": "code",
        "outputId": "5db95602-3744-4397-8b6c-b980ea0c3050",
        "colab": {
          "base_uri": "https://localhost:8080/",
          "height": 121
        }
      },
      "source": [
        "from google.colab import drive\n",
        "drive.mount('/content/gdrive')"
      ],
      "execution_count": 0,
      "outputs": [
        {
          "output_type": "stream",
          "text": [
            "Go to this URL in a browser: https://accounts.google.com/o/oauth2/auth?client_id=947318989803-6bn6qk8qdgf4n4g3pfee6491hc0brc4i.apps.googleusercontent.com&redirect_uri=urn%3aietf%3awg%3aoauth%3a2.0%3aoob&response_type=code&scope=email%20https%3a%2f%2fwww.googleapis.com%2fauth%2fdocs.test%20https%3a%2f%2fwww.googleapis.com%2fauth%2fdrive%20https%3a%2f%2fwww.googleapis.com%2fauth%2fdrive.photos.readonly%20https%3a%2f%2fwww.googleapis.com%2fauth%2fpeopleapi.readonly\n",
            "\n",
            "Enter your authorization code:\n",
            "··········\n",
            "Mounted at /content/gdrive\n"
          ],
          "name": "stdout"
        }
      ]
    },
    {
      "cell_type": "code",
      "metadata": {
        "id": "TFDMv79IU8JT",
        "colab_type": "code",
        "colab": {}
      },
      "source": [
        "%%capture\n",
        "!unzip /content/gdrive/My\\ Drive/Calibration.zip -d IC"
      ],
      "execution_count": 0,
      "outputs": []
    },
    {
      "cell_type": "code",
      "metadata": {
        "id": "kvIV2sRdNVuT",
        "colab_type": "code",
        "colab": {}
      },
      "source": [
        "#General imports\n",
        "from __future__ import print_function, division \n",
        "import torch\n",
        "import torch.nn as nn\n",
        "import torch.optim as optim\n",
        "from torch.optim import lr_scheduler\n",
        "import numpy as np\n",
        "import torchvision\n",
        "from torchvision import datasets, models, transforms\n",
        "import matplotlib.pyplot as plt\n",
        "import time\n",
        "import os\n",
        "import copy\n",
        "import pandas as pd\n",
        "from skimage import io, transform\n",
        "from PIL import ImageFile\n",
        "from PIL import Image\n",
        "ImageFile.LOAD_TRUNCATED_IMAGES = True"
      ],
      "execution_count": 0,
      "outputs": []
    },
    {
      "cell_type": "code",
      "metadata": {
        "id": "kTNgflHBhrzD",
        "colab_type": "code",
        "colab": {}
      },
      "source": [
        "#Utilities for loading the images and creating datasets\n",
        "\n",
        "import os\n",
        "import os.path\n",
        "from torch.utils.data import Dataset\n",
        "from torchvision import get_image_backend\n",
        "\n",
        "def pil_loader(path):\n",
        "    # open path as file to avoid ResourceWarning (https://github.com/python-pillow/Pillow/issues/835)\n",
        "    with open(path, 'rb') as f:\n",
        "        img = Image.open(f)\n",
        "        return img.convert('RGB')\n",
        "\n",
        "def default_loader(path):\n",
        "  if get_image_backend() == 'accimage':\n",
        "    return accimage_loader(path)\n",
        "  else:\n",
        "    return pil_loader(path)\n",
        "def accimage_loader(path):\n",
        "    import accimage\n",
        "    try:\n",
        "        return accimage.Image(path)\n",
        "    except IOError:\n",
        "      return pil_loader(path)\n",
        "\n",
        "class ImageFromCSV(Dataset):\n",
        "    \"\"\"Class for creating an image dataset based on a csv with filenames and\n",
        "    a directory containing the images\n",
        "    \"\"\"\n",
        "\n",
        "    def __init__(self, csv_file, root_dir, transform=None):\n",
        "        \"\"\"\n",
        "        Args:\n",
        "            csv_file (string): Path to the csv file with annotations.\n",
        "            root_dir (string): Directory with all the images.\n",
        "            transform (callable, optional): Optional transform to be applied\n",
        "                on a sample.\n",
        "        \"\"\"\n",
        "        self.csv = pd.read_csv(csv_file)\n",
        "        self.root_dir = root_dir\n",
        "        self.transform = transform\n",
        "\n",
        "    def __len__(self):\n",
        "        return len(self.csv)\n",
        "\n",
        "    def __getitem__(self, idx):\n",
        "        img_name = os.path.join(self.root_dir,\n",
        "                                self.csv.iloc[idx, 0])\n",
        "        image = default_loader(img_name)\n",
        "        label = self.csv.iloc[idx, 1]\n",
        "\n",
        "        if self.transform:\n",
        "            image = self.transform(image)\n",
        "\n",
        "        return image , label"
      ],
      "execution_count": 0,
      "outputs": []
    },
    {
      "cell_type": "code",
      "metadata": {
        "id": "RuG2HIP-n7Xy",
        "colab_type": "code",
        "colab": {}
      },
      "source": [
        "#Creation of datasets\n",
        "\n",
        "#Transforms to convert the input into the input expected by resnet\n",
        "data_transforms = {\n",
        "    'train': transforms.Compose([\n",
        "        transforms.Resize((224,224)),\n",
        "        transforms.ToTensor(),\n",
        "        transforms.Normalize([0.485, 0.456, 0.406], [0.229, 0.224, 0.225])\n",
        "    ]),\n",
        "    'valid': transforms.Compose([\n",
        "        transforms.Resize((224,224)),\n",
        "        transforms.ToTensor(),\n",
        "        transforms.Normalize([0.485, 0.456, 0.406], [0.229, 0.224, 0.225])\n",
        "    ]),\n",
        "    \n",
        "    'test': transforms.Compose([\n",
        "        transforms.Resize((224,224)),\n",
        "        transforms.ToTensor(),\n",
        "        transforms.Normalize([0.485, 0.456, 0.406], [0.229, 0.224, 0.225])\n",
        "    ]),\n",
        "    'calib': transforms.Compose([\n",
        "        transforms.Resize((224,224)),\n",
        "        transforms.ToTensor(),\n",
        "        transforms.Normalize([0.485, 0.456, 0.406], [0.229, 0.224, 0.225])\n",
        "    ])\n",
        "}\n",
        "\n",
        "#Creates datasets and stores them in a dictionary\n",
        "image_datasets = {x:ImageFromCSV(\"IC/{0}_calib.csv\".format(x),\"IC/Meteoros\",transform=data_transforms[x])\n",
        "                  for x in ['train', 'valid','test','calib']}"
      ],
      "execution_count": 0,
      "outputs": []
    },
    {
      "cell_type": "code",
      "metadata": {
        "id": "PYDuj6ew1F-M",
        "colab_type": "code",
        "outputId": "f2af0c20-0031-45b9-dd4a-546bf8a325d1",
        "colab": {
          "base_uri": "https://localhost:8080/",
          "height": 54
        }
      },
      "source": [
        "print(image_datasets)"
      ],
      "execution_count": 0,
      "outputs": [
        {
          "output_type": "stream",
          "text": [
            "{'train': <__main__.ImageFromCSV object at 0x7f190518d358>, 'valid': <__main__.ImageFromCSV object at 0x7f196555be10>, 'test': <__main__.ImageFromCSV object at 0x7f1977e6c4a8>, 'calib': <__main__.ImageFromCSV object at 0x7f197d7e4b70>}\n"
          ],
          "name": "stdout"
        }
      ]
    },
    {
      "cell_type": "code",
      "metadata": {
        "id": "pkJW8R2FY98l",
        "colab_type": "code",
        "outputId": "d1d15e22-026a-418f-92e7-31ffeac2bbd6",
        "colab": {
          "base_uri": "https://localhost:8080/",
          "height": 281
        }
      },
      "source": [
        "#Displaying one image from the dataset for debugging purposes\n",
        "dataloader=torch.utils.data.DataLoader(image_datasets['train'])\n",
        "plt.ion() \n",
        "def imshow(inp, title=None):\n",
        "    \"\"\"Imshow for Tensor.\"\"\"\n",
        "    inp = inp.numpy().transpose((1, 2, 0))\n",
        "    mean = np.array([0.485, 0.456, 0.406])\n",
        "    std = np.array([0.229, 0.224, 0.225])\n",
        "    inp = std * inp + mean\n",
        "    inp = np.clip(inp, 0, 1)\n",
        "    plt.imshow(inp)\n",
        "    if title is not None:\n",
        "        plt.title(title)\n",
        "    plt.pause(0.001)  # pause a bit so that plots are updated\n",
        "\n",
        "\n",
        "# Get a batch of training data\n",
        "inputs, classes = next(iter(dataloader))\n",
        "\n",
        "\n",
        "# Make a grid from batch\n",
        "out = torchvision.utils.make_grid(inputs)\n",
        "\n",
        "imshow(out, title=classes.item())"
      ],
      "execution_count": 0,
      "outputs": [
        {
          "output_type": "display_data",
          "data": {
            "image/png": "[encoded data removed]",
            "text/plain": [
              "<Figure size 432x288 with 1 Axes>"
            ]
          },
          "metadata": {
            "tags": [],
            "needs_background": "light"
          }
        }
      ]
    },
    {
      "cell_type": "code",
      "metadata": {
        "id": "QWUr7WNoOvHU",
        "colab_type": "code",
        "colab": {}
      },
      "source": [
        "import matplotlib.pyplot as plt\n",
        "import torch\n",
        "\n",
        "class Learner:\n",
        "    \"\"\"Class for wrapping a model with training and prediction functionality.\n",
        "    Stores an optimizer, a training criterion, and datasets. These can be altered\n",
        "    throught set functions.\n",
        "    \"\"\"\n",
        "    def __init__(self,model,criterion):\n",
        "        self.model=model\n",
        "        self.criterion=criterion\n",
        "        self.device=torch.device(\"cuda\" if torch.cuda.is_available() else \"cpu\")\n",
        "        self.best_acc=0\n",
        "        self.last_acc=0\n",
        "\n",
        "    def set_datasets(self,training,valid):\n",
        "        self.training_dataset=training\n",
        "        self.validation_dataset=valid\n",
        "    def set_optimizer(self,optimizer,scheduler):\n",
        "        self.optimizer=optimizer\n",
        "        self.scheduler=scheduler\n",
        "    def propagate_batch(self,inputs,labels):\n",
        "        with torch.set_grad_enabled(True):\n",
        "            outputs=self.model(inputs)\n",
        "            size=inputs.size(0)\n",
        "            del inputs\n",
        "            loss = self.criterion(outputs, labels)\n",
        "            loss.backward()\n",
        "            \n",
        "        with torch.no_grad():\n",
        "            preds = torch.argmax(outputs, 1)\n",
        "            corrects = torch.sum(preds==labels.data).item() \n",
        "            loss_item=loss.item()\n",
        "        del preds\n",
        "        del outputs\n",
        "        del loss\n",
        "        del labels\n",
        "        return loss_item*size,corrects\n",
        "\n",
        "    def eval_batch(self, inputs, labels):\n",
        "        with torch.no_grad():\n",
        "            outputs=self.model(inputs)\n",
        "            loss = self.criterion(outputs, labels)\n",
        "            preds = torch.argmax(outputs, 1)\n",
        "            corrects = torch.sum(preds==labels.data).item()\n",
        "            size=inputs.size(0)\n",
        "            loss_item=loss.item()\n",
        "        del outputs\n",
        "        del loss\n",
        "        del preds\n",
        "        del inputs\n",
        "        del labels\n",
        "        return loss_item*size,corrects\n",
        "\n",
        "    def print_statistics(self,loss,accuracy):\n",
        "        print(\"  Avg Loss={}\\n  Accuracy={}\".format(loss,accuracy))\n",
        "    def ceildiv(self,a, b):\n",
        "        \"\"\"Return the celing of the division of a by b\n",
        "        \"\"\"\n",
        "        return -(-a // b)\n",
        "    def min_value(self,a,b):\n",
        "        \"\"\"Return the smaller of two values\n",
        "        \"\"\"\n",
        "        if a>b:\n",
        "            return b\n",
        "        else:\n",
        "            return a\n",
        "    def max_value(self,a,b):\n",
        "        \"\"\"\"Return the greater of two values\n",
        "        \"\"\"\n",
        "        if b>a:\n",
        "          return b\n",
        "        else:\n",
        "          return a\n",
        "    def change_to_best_model(self):\n",
        "        self.model.load_state_dict(self.best_model_wts)\n",
        "    def train(self,num_epochs,training_batchsize,validation_batchsize,batch_cap=32):\n",
        "        \"\"\"Train the learner's model for num_epochs on training batchsize, printing the train and validation loss and accuracy\n",
        "        \"\"\"\n",
        "        batch_cap=self.min_value(training_batchsize,batch_cap)\n",
        "        train_dataloader=torch.utils.data.DataLoader(self.training_dataset,batch_size=batch_cap,shuffle=True)\n",
        "        \n",
        "        training_batches=self.ceildiv(len(self.training_dataset),training_batchsize)\n",
        "        micro_batches=training_batchsize//batch_cap #accuracy statistics will only work properly if training batch is divisible by batch_cap\n",
        "        valid_dataloader=torch.utils.data.DataLoader(self.validation_dataset,batch_size=validation_batchsize,shuffle=True)\n",
        "        validation_batches=self.ceildiv(len(self.validation_dataset),validation_batchsize)\n",
        "        since = time.time()\n",
        "        train_losses=[]\n",
        "        valid_losses=[]\n",
        "        for epoch in range(num_epochs):\n",
        "            print(\"Epoch {} of {}\".format(epoch,num_epochs-1))\n",
        "            \n",
        "            \n",
        "\n",
        "            self.model.train()\n",
        "            #Train model\n",
        "            loss = 0\n",
        "            corrects = 0\n",
        "            iterator = iter(train_dataloader)\n",
        "            for batch in range(training_batches):\n",
        "                self.optimizer.zero_grad()\n",
        "                try:\n",
        "                  for micro_batch in range(micro_batches):\n",
        "\n",
        "                    inputs,labels=next(iterator)\n",
        "                    new_loss , new_corrects = self.propagate_batch(inputs.to(self.device),labels.to(self.device))\n",
        "                    loss+=new_loss\n",
        "                    corrects+=new_corrects\n",
        "                    del inputs\n",
        "                    del labels\n",
        "                    del new_loss\n",
        "                    del new_corrects\n",
        "                    torch.cuda.empty_cache()\n",
        "                except StopIteration:\n",
        "                    pass\n",
        "                self.optimizer.step()\n",
        "                torch.cuda.empty_cache()\n",
        "\n",
        "            self.scheduler.step()\n",
        "            optimizer.zero_grad()\n",
        "            torch.cuda.empty_cache()\n",
        "            train_losses.append(loss/len(self.training_dataset))\n",
        "            print(\"Training:\")\n",
        "            self.print_statistics(loss/len(self.training_dataset),corrects/len(self.training_dataset))\n",
        "            \n",
        "            \n",
        "            self.model.eval()\n",
        "            #Evaluate model\n",
        "            loss = 0\n",
        "            corrects = 0\n",
        "            iterator = iter(valid_dataloader)\n",
        "            for batch in range(validation_batches):\n",
        "                inputs,labels=next(iterator)\n",
        "                new_loss , new_corrects=self.eval_batch(inputs.to(self.device),labels.to(self.device))\n",
        "                loss+=new_loss\n",
        "                corrects+=new_corrects\n",
        "                del inputs\n",
        "                del labels\n",
        "                del new_loss\n",
        "                del new_corrects\n",
        "                torch.cuda.empty_cache()\n",
        "            valid_losses.append(loss/len(self.validation_dataset))\n",
        "            acc=corrects/len(self.validation_dataset)\n",
        "            print(\"Validation:\")\n",
        "            self.print_statistics(loss/len(self.validation_dataset),acc)\n",
        "            print()\n",
        "            self.last_acc=acc\n",
        "            if(acc>self.best_acc):\n",
        "              self.best_acc=acc\n",
        "              self.best_model_wts = copy.deepcopy(self.model.state_dict())\n",
        "            \n",
        "\n",
        "        time_elapsed = time.time() - since\n",
        "        print(\"Total time:{}\".format(time_elapsed))\n",
        "        plt.plot(range(num_epochs),train_losses,'r',range(num_epochs),valid_losses,'b')\n",
        "        del train_dataloader\n",
        "        del valid_dataloader\n",
        "        del train_losses\n",
        "        del valid_losses\n",
        "        torch.cuda.empty_cache()\n",
        "    def predict(self,dataset,batchsize,num_classes):\n",
        "        \"\"\"Predicts on a dataset and returns a tensor containing the probabilities of each class \n",
        "        \"\"\"\n",
        "        dataloader=torch.utils.data.DataLoader(dataset,batch_size=batchsize,shuffle=False)\n",
        "        dataset_len=len(dataset)\n",
        "        num_batches=self.ceildiv(dataset_len,batchsize)\n",
        "        since = time.time()\n",
        "        predictions = torch.zeros((len(dataset),num_classes)).to(self.device)\n",
        "        self.model.eval()\n",
        "        self.optimizer.zero_grad()\n",
        "        iterator = iter(dataloader)\n",
        "        with torch.no_grad():\n",
        "          for batch in range(num_batches):\n",
        "              inputs, _ = next(iterator)\n",
        "              inputs = inputs.to(self.device)\n",
        "              logits =  self.model(inputs)\n",
        "              del inputs\n",
        "              unnormalized_probabilities = torch.exp(logits)\n",
        "              del logits\n",
        "              denominators = torch.sum(unnormalized_probabilities,1,True)\n",
        "              probabilities= torch.div(unnormalized_probabilities,denominators)\n",
        "              del denominators\n",
        "              del unnormalized_probabilities\n",
        "              indexes=torch.tensor(range(batch*batchsize,self.min_value((batch+1)*batchsize,dataset_len))).to(self.device)\n",
        "              predictions.index_copy_(0,indexes,probabilities)\n",
        "              del indexes\n",
        "              del probabilities\n",
        "              torch.cuda.empty_cache()\n",
        "          predictions_cpu=predictions.cpu()\n",
        "        del predictions\n",
        "        del dataloader\n",
        "        torch.cuda.empty_cache()\n",
        "        return predictions_cpu"
      ],
      "execution_count": 0,
      "outputs": []
    },
    {
      "cell_type": "code",
      "metadata": {
        "id": "7uCtlvyItHKm",
        "colab_type": "code",
        "colab": {}
      },
      "source": [
        "def freeze_resnet(model,n):\n",
        "  \"\"\"Function that freezes the first n layers of a resnet\n",
        "  \"\"\"\n",
        "  #This is considered as the first layer\n",
        "  model.conv1.requires_grad=False\n",
        "  model.bn1.weight.requires_grad=False\n",
        "  model.bn1.bias.requires_grad=False\n",
        "  l=1\n",
        "  flag=False #Flag for stopping the iteration\n",
        "  for layer in [model.layer1,model.layer2,model.layer3,model.layer4]:\n",
        "    #Resnets group the layers on these 4 layer blocks\n",
        "    if(flag):\n",
        "      break\n",
        "    for block in layer:\n",
        "      if(flag):\n",
        "        break\n",
        "      for module in block.children():\n",
        "        if(l<n):\n",
        "          #Code for making the conv and batch norm layers untrainable\n",
        "          if isinstance(module,nn.Conv2d):\n",
        "            module.requires_grad=False\n",
        "          elif isinstance(module,nn.BatchNorm2d):\n",
        "            module.weight.requires_grad=False\n",
        "            module.bias.requires_grad=False\n",
        "            l+=1 #Counts each conv + batch group as one layer\n",
        "        else:\n",
        "          flag=True\n",
        "          break\n"
      ],
      "execution_count": 0,
      "outputs": []
    },
    {
      "cell_type": "code",
      "metadata": {
        "id": "wyUMdcA8tORQ",
        "colab_type": "code",
        "outputId": "c2f46806-d4b7-414a-df56-03669964f9bf",
        "colab": {
          "base_uri": "https://localhost:8080/",
          "height": 1000,
          "referenced_widgets": [
            "34da1ce583f4447999c6121b83508251",
            "545671b7b0274527b66abd2631539d5a",
            "0d74d704a7424a68abaeb0de88227547",
            "4888a8ae19034cb48a81116efb5a54ae",
            "7b84e886769644f48c14e18495ce6ef7",
            "89294bf23a844064980833b5d638821a",
            "c663d57d470b46f7843dedc211f40159",
            "ce206c74395d40eca014012299f95ff4"
          ]
        }
      },
      "source": [
        "device = torch.device(\"cuda:0\" if torch.cuda.is_available() else \"cpu\")\n",
        "\n",
        "#Initializing the model with the hyperparameters\n",
        "model_ft = models.resnet50(pretrained=True)\n",
        "freeze_resnet(model_ft,33)\n",
        "num_ftrs=model_ft.fc.in_features\n",
        "model_ft.fc=nn.Sequential(  nn.Linear(num_ftrs, 1024),\n",
        "                            nn.ReLU(),\n",
        "                            nn.Linear(1024, 2),\n",
        "                          )\n",
        "model_ft=model_ft.to(device)\n",
        "criterion = nn.CrossEntropyLoss()\n",
        "learner = Learner(model_ft,criterion)\n",
        "\n",
        "optimizer = optim.Adam(filter(lambda p: p.requires_grad, model_ft.parameters()), lr = 3e-4)\n",
        "scheduler = optim.lr_scheduler.ExponentialLR(optimizer,0.99)\n",
        "learner.set_optimizer(optimizer,scheduler)\n",
        "\n",
        "#Training for 30 epochs then changing to the best model on the validation (early stopping)\n",
        "learner.set_datasets(image_datasets['train'],image_datasets['valid'])\n",
        "learner.train(30,64,128,batch_cap=64)\n",
        "learner.change_to_best_model()"
      ],
      "execution_count": 0,
      "outputs": [
        {
          "output_type": "stream",
          "text": [
            "Downloading: \"https://download.pytorch.org/models/resnet50-19c8e357.pth\" to /root/.cache/torch/checkpoints/resnet50-19c8e357.pth\n"
          ],
          "name": "stderr"
        },
        {
          "output_type": "display_data",
          "data": {
            "application/vnd.jupyter.widget-view+json": {
              "model_id": "34da1ce583f4447999c6121b83508251",
              "version_minor": 0,
              "version_major": 2
            },
            "text/plain": [
              "HBox(children=(FloatProgress(value=0.0, max=102502400.0), HTML(value='')))"
            ]
          },
          "metadata": {
            "tags": []
          }
        },
        {
          "output_type": "stream",
          "text": [
            "\n",
            "Epoch 0 of 29\n",
            "Training:\n",
            "  Avg Loss=0.2438156191607186\n",
            "  Accuracy=0.8984888304862023\n",
            "Validation:\n",
            "  Avg Loss=0.3880741581290901\n",
            "  Accuracy=0.8557114228456913\n",
            "\n",
            "Epoch 1 of 29\n",
            "Training:\n",
            "  Avg Loss=0.12097182098418749\n",
            "  Accuracy=0.9589356110381078\n",
            "Validation:\n",
            "  Avg Loss=0.21244322605625182\n",
            "  Accuracy=0.9138276553106213\n",
            "\n",
            "Epoch 2 of 29\n",
            "Training:\n",
            "  Avg Loss=0.06378514859115561\n",
            "  Accuracy=0.9806176084099869\n",
            "Validation:\n",
            "  Avg Loss=0.24960408737520895\n",
            "  Accuracy=0.9198396793587175\n",
            "\n",
            "Epoch 3 of 29\n",
            "Training:\n",
            "  Avg Loss=0.05657692244778168\n",
            "  Accuracy=0.9806176084099869\n",
            "Validation:\n",
            "  Avg Loss=0.09932745198806923\n",
            "  Accuracy=0.9498997995991983\n",
            "\n",
            "Epoch 4 of 29\n",
            "Training:\n",
            "  Avg Loss=0.036455776332235075\n",
            "  Accuracy=0.9871879106438897\n",
            "Validation:\n",
            "  Avg Loss=0.27921417047958336\n",
            "  Accuracy=0.935871743486974\n",
            "\n",
            "Epoch 5 of 29\n",
            "Training:\n",
            "  Avg Loss=0.03480218842309874\n",
            "  Accuracy=0.985873850197109\n",
            "Validation:\n",
            "  Avg Loss=0.13300431325643478\n",
            "  Accuracy=0.9498997995991983\n",
            "\n",
            "Epoch 6 of 29\n",
            "Training:\n",
            "  Avg Loss=0.023936372118146598\n",
            "  Accuracy=0.9921156373193167\n",
            "Validation:\n",
            "  Avg Loss=0.31560711870212593\n",
            "  Accuracy=0.9138276553106213\n",
            "\n",
            "Epoch 7 of 29\n",
            "Training:\n",
            "  Avg Loss=0.03074704729138082\n",
            "  Accuracy=0.9901445466491459\n",
            "Validation:\n",
            "  Avg Loss=0.15159558964695385\n",
            "  Accuracy=0.9458917835671342\n",
            "\n",
            "Epoch 8 of 29\n",
            "Training:\n",
            "  Avg Loss=0.02511304741267619\n",
            "  Accuracy=0.992772667542707\n",
            "Validation:\n",
            "  Avg Loss=0.15178425117341693\n",
            "  Accuracy=0.9498997995991983\n",
            "\n",
            "Epoch 9 of 29\n",
            "Training:\n",
            "  Avg Loss=0.015943482253852247\n",
            "  Accuracy=0.9944152431011827\n",
            "Validation:\n",
            "  Avg Loss=0.17354984297781048\n",
            "  Accuracy=0.9478957915831663\n",
            "\n",
            "Epoch 10 of 29\n",
            "Training:\n",
            "  Avg Loss=0.018906233707411062\n",
            "  Accuracy=0.9940867279894875\n",
            "Validation:\n",
            "  Avg Loss=1.4684857347446358\n",
            "  Accuracy=0.9258517034068137\n",
            "\n",
            "Epoch 11 of 29\n",
            "Training:\n",
            "  Avg Loss=0.021061101505066588\n",
            "  Accuracy=0.9931011826544021\n",
            "Validation:\n",
            "  Avg Loss=0.1981934015760441\n",
            "  Accuracy=0.9458917835671342\n",
            "\n",
            "Epoch 12 of 29\n",
            "Training:\n",
            "  Avg Loss=0.015453950118924566\n",
            "  Accuracy=0.9944152431011827\n",
            "Validation:\n",
            "  Avg Loss=0.16238296360434415\n",
            "  Accuracy=0.9378757515030061\n",
            "\n",
            "Epoch 13 of 29\n",
            "Training:\n",
            "  Avg Loss=0.022058237495473566\n",
            "  Accuracy=0.9924441524310118\n",
            "Validation:\n",
            "  Avg Loss=0.20918229504494007\n",
            "  Accuracy=0.9478957915831663\n",
            "\n",
            "Epoch 14 of 29\n",
            "Training:\n",
            "  Avg Loss=0.006231554028175467\n",
            "  Accuracy=0.9980289093298291\n",
            "Validation:\n",
            "  Avg Loss=0.1879148963756695\n",
            "  Accuracy=0.9478957915831663\n",
            "\n",
            "Epoch 15 of 29\n",
            "Training:\n",
            "  Avg Loss=0.0024811868677001433\n",
            "  Accuracy=0.9993429697766097\n",
            "Validation:\n",
            "  Avg Loss=0.247558027744771\n",
            "  Accuracy=0.9418837675350702\n",
            "\n",
            "Epoch 16 of 29\n",
            "Training:\n",
            "  Avg Loss=0.008318080460045698\n",
            "  Accuracy=0.9970433639947438\n",
            "Validation:\n",
            "  Avg Loss=0.3995747613405178\n",
            "  Accuracy=0.9338677354709419\n",
            "\n",
            "Epoch 17 of 29\n",
            "Training:\n",
            "  Avg Loss=0.010271914269035969\n",
            "  Accuracy=0.9960578186596584\n",
            "Validation:\n",
            "  Avg Loss=0.4220912056361028\n",
            "  Accuracy=0.9298597194388778\n",
            "\n",
            "Epoch 18 of 29\n",
            "Training:\n",
            "  Avg Loss=0.017062056344920345\n",
            "  Accuracy=0.9954007884362681\n",
            "Validation:\n",
            "  Avg Loss=0.1795797869712413\n",
            "  Accuracy=0.9539078156312625\n",
            "\n",
            "Epoch 19 of 29\n",
            "Training:\n",
            "  Avg Loss=0.009770112911315142\n",
            "  Accuracy=0.9963863337713534\n",
            "Validation:\n",
            "  Avg Loss=0.17048094763545568\n",
            "  Accuracy=0.9519038076152304\n",
            "\n",
            "Epoch 20 of 29\n",
            "Training:\n",
            "  Avg Loss=0.0021765284563332755\n",
            "  Accuracy=0.9993429697766097\n",
            "Validation:\n",
            "  Avg Loss=0.18210733300429546\n",
            "  Accuracy=0.9478957915831663\n",
            "\n",
            "Epoch 21 of 29\n",
            "Training:\n",
            "  Avg Loss=0.0005083479055762493\n",
            "  Accuracy=1.0\n",
            "Validation:\n",
            "  Avg Loss=0.3342764211113085\n",
            "  Accuracy=0.9398797595190381\n",
            "\n",
            "Epoch 22 of 29\n",
            "Training:\n",
            "  Avg Loss=0.002522835711084714\n",
            "  Accuracy=0.9993429697766097\n",
            "Validation:\n",
            "  Avg Loss=0.2237980618386087\n",
            "  Accuracy=0.9478957915831663\n",
            "\n",
            "Epoch 23 of 29\n",
            "Training:\n",
            "  Avg Loss=0.004349476619864808\n",
            "  Accuracy=0.9980289093298291\n",
            "Validation:\n",
            "  Avg Loss=0.22000956344222258\n",
            "  Accuracy=0.9478957915831663\n",
            "\n",
            "Epoch 24 of 29\n",
            "Training:\n",
            "  Avg Loss=0.00423736083130626\n",
            "  Accuracy=0.9990144546649146\n",
            "Validation:\n",
            "  Avg Loss=0.29771730512798666\n",
            "  Accuracy=0.9398797595190381\n",
            "\n",
            "Epoch 25 of 29\n",
            "Training:\n",
            "  Avg Loss=0.001203154432827499\n",
            "  Accuracy=0.9996714848883048\n",
            "Validation:\n",
            "  Avg Loss=0.37089989885299623\n",
            "  Accuracy=0.9338677354709419\n",
            "\n",
            "Epoch 26 of 29\n",
            "Training:\n",
            "  Avg Loss=0.00034073760819287283\n",
            "  Accuracy=1.0\n",
            "Validation:\n",
            "  Avg Loss=0.286866151169689\n",
            "  Accuracy=0.935871743486974\n",
            "\n",
            "Epoch 27 of 29\n",
            "Training:\n",
            "  Avg Loss=0.00011568736779870209\n",
            "  Accuracy=1.0\n",
            "Validation:\n",
            "  Avg Loss=0.32902824480034304\n",
            "  Accuracy=0.9278557114228457\n",
            "\n",
            "Epoch 28 of 29\n",
            "Training:\n",
            "  Avg Loss=6.0263272183953384e-05\n",
            "  Accuracy=1.0\n",
            "Validation:\n",
            "  Avg Loss=0.3185067826616979\n",
            "  Accuracy=0.935871743486974\n",
            "\n",
            "Epoch 29 of 29\n",
            "Training:\n",
            "  Avg Loss=5.543239796462186e-05\n",
            "  Accuracy=1.0\n",
            "Validation:\n",
            "  Avg Loss=0.32376080975384414\n",
            "  Accuracy=0.9338677354709419\n",
            "\n",
            "Total time:3923.0028772354126\n",
            "0.9539078156312625\n",
            "\n"
          ],
          "name": "stdout"
        },
        {
          "output_type": "display_data",
          "data": {
            "image/png": "[encoded data removed]",
            "text/plain": [
              "<Figure size 432x288 with 1 Axes>"
            ]
          },
          "metadata": {
            "tags": [],
            "needs_background": "light"
          }
        }
      ]
    },
    {
      "cell_type": "code",
      "metadata": {
        "id": "uhFsdowI1mbj",
        "colab_type": "code",
        "colab": {}
      },
      "source": [
        "#Extracting labels and predictions for calibration and test sets\n",
        "calib_preds = learner.predict(image_datasets['calib'],128,2)\n",
        "calib_preds[torch.isnan(calib_preds)]=1 #Some extremely glitched inputs may result in nan output,\n",
        "                                        #these can be discardes as non meteors.\n",
        "calib_preds = calib_preds[:,1].numpy() #Predicted probability of being non meteor\n",
        "calib_labels = np.array([image_datasets['calib'][i][1] for i in range(len(image_datasets['calib']))])\n",
        "\n",
        "test_preds = learner.predict(image_datasets['test'],128,2)\n",
        "test_preds[torch.isnan(test_preds)]=1\n",
        "test_preds = test_preds[:,1].numpy()\n",
        "test_labels = np.array([image_datasets['test'][i][1] for i in range(len(image_datasets['test']))])"
      ],
      "execution_count": 0,
      "outputs": []
    },
    {
      "cell_type": "code",
      "metadata": {
        "id": "4Wp9SZWVkbqk",
        "colab_type": "code",
        "outputId": "8bd39107-c26c-46cd-a461-a9b3944567a0",
        "colab": {
          "base_uri": "https://localhost:8080/",
          "height": 67
        }
      },
      "source": [
        "from sklearn import linear_model\n",
        "from sklearn import metrics\n",
        "\n",
        "logits = calib_preds[:,np.newaxis] #Format expected by logistic regression\n",
        "\n",
        "#Fitting the logistic regression on top of the predictions of the calibration set\n",
        "platt_scaling = linear_model.LogisticRegression().fit(logits,calib_labels) \n",
        "\n",
        "\n",
        "calibrated_calib_preds = platt_scaling.predict_proba(logits)\n",
        "calibrated_calib_preds = calibrated_calib_preds[:,1]"
      ],
      "execution_count": 0,
      "outputs": [
        {
          "output_type": "stream",
          "text": [
            "loss change:\n",
            "0.4020375804597755\n",
            "0.3024602031023369\n"
          ],
          "name": "stdout"
        }
      ]
    },
    {
      "cell_type": "code",
      "metadata": {
        "id": "-zJfkDWBDgp_",
        "colab_type": "code",
        "outputId": "14ceeef3-8414-4513-dc84-4ef1fa079fe6",
        "colab": {
          "base_uri": "https://localhost:8080/",
          "height": 349
        }
      },
      "source": [
        "from sklearn import calibration\n",
        "from sklearn import metrics\n",
        "\n",
        "\n",
        "logits = test_preds[:,np.newaxis]\n",
        "\n",
        "calibrated_test_preds = platt_scaling.predict_proba(logits)\n",
        "calibrated_test_preds = calibrated_test_preds[:,1]\n",
        "\n",
        "print(\"Cross entropy change:\")\n",
        "print(metrics.log_loss(test_labels,\n",
        "                       test_preds,eps=1e-7))\n",
        "print(metrics.log_loss(test_labels,\n",
        "                       calibrated_test_preds,eps=1e-7))\n",
        "\n",
        "print(\"Brier score change:\")\n",
        "print(metrics.brier_score_loss(test_labels,test_preds))\n",
        "print(metrics.brier_score_loss(test_labels,calibrated_test_preds))\n",
        "#Comparison of calibration curve \n",
        "y1,x1 =  calibration.calibration_curve( test_labels, test_preds, normalize=False, n_bins=5)\n",
        "y2,x2 =  calibration.calibration_curve( test_labels, calibrated_test_preds, normalize=False, n_bins=5)\n",
        "plt.plot(x1,y1,'bo--',x2,y2,'ko--',[0,1],[0,1],'m')"
      ],
      "execution_count": 0,
      "outputs": [
        {
          "output_type": "stream",
          "text": [
            "0.4417057817749862\n",
            "0.308732339343583\n"
          ],
          "name": "stdout"
        },
        {
          "output_type": "execute_result",
          "data": {
            "text/plain": [
              "[<matplotlib.lines.Line2D at 0x7fbc904da668>,\n",
              " <matplotlib.lines.Line2D at 0x7fbc904da828>,\n",
              " <matplotlib.lines.Line2D at 0x7fbc904da940>]"
            ]
          },
          "metadata": {
            "tags": []
          },
          "execution_count": 22
        },
        {
          "output_type": "display_data",
          "data": {
            "image/png": "[encoded data removed]",
            "text/plain": [
              "<Figure size 432x288 with 1 Axes>"
            ]
          },
          "metadata": {
            "tags": [],
            "needs_background": "light"
          }
        }
      ]
    },
    {
      "cell_type": "code",
      "metadata": {
        "id": "zuDJMMolDPuF",
        "colab_type": "code",
        "outputId": "bdcd7fc1-3fb5-41fd-b6ac-dd70c471fa51",
        "colab": {
          "base_uri": "https://localhost:8080/",
          "height": 118
        }
      },
      "source": [
        "from sklearn.isotonic import IsotonicRegression\n",
        "\n",
        "#Fitting isotonic model on top of the calibration predictions\n",
        "ir = IsotonicRegression(out_of_bounds='clip')\n",
        "ir.fit(calib_preds,calib_labels)\n",
        "\n",
        "print(\"NLL loss:\")\n",
        "print(metrics.log_loss(calib_labels,\n",
        "                       calib_preds,eps=1e-7))\n",
        "print(metrics.log_loss(calib_labels,\n",
        "                       ir.predict(calib_preds),eps=1e-7))\n",
        "print(\"Brier loss:\")\n",
        "print(metrics.brier_score_loss(calib_labels,calib_preds))\n",
        "print(metrics.brier_score_loss(calib_labels,ir.predict(calib_preds)))"
      ],
      "execution_count": 0,
      "outputs": [
        {
          "output_type": "stream",
          "text": [
            "NLL loss:\n",
            "0.40388116652413997\n",
            "0.1817533503130299\n",
            "Brier loss:\n",
            "0.09989432300527505\n",
            "0.054843749402165985\n"
          ],
          "name": "stdout"
        }
      ]
    },
    {
      "cell_type": "code",
      "metadata": {
        "id": "l3-3rEqDfp22",
        "colab_type": "code",
        "outputId": "10444ae6-b2ed-4319-8335-f23532b2b4ec",
        "colab": {
          "base_uri": "https://localhost:8080/",
          "height": 416
        }
      },
      "source": [
        "print(\"Cross entropy change:\")\n",
        "print(metrics.log_loss(test_labels,\n",
        "                       test_preds,eps=1e-7))\n",
        "print(metrics.log_loss(test_labels,\n",
        "                       ir.predict(test_preds),eps=1e-7))\n",
        "print(\"Brier score change:\")\n",
        "print(metrics.brier_score_loss(test_labels,test_preds))\n",
        "print(metrics.brier_score_loss(test_labels,ir.predict(test_preds)))\n",
        "\n",
        "y1,x1 =  calibration.calibration_curve( test_labels, test_preds, normalize=False, n_bins=5)\n",
        "y2,x2 =  calibration.calibration_curve( test_labels, ir.predict(test_preds), normalize=False, n_bins=5)\n",
        "plt.plot(x1,y1,'bo--',x2,y2,'go--',[0,1],[0,1],'m')"
      ],
      "execution_count": 0,
      "outputs": [
        {
          "output_type": "stream",
          "text": [
            "NLL loss:\n",
            "0.4417057817749862\n",
            "0.29078947266075844\n",
            "Brier loss:\n",
            "0.09549739525272813\n",
            "0.07797389602152409\n"
          ],
          "name": "stdout"
        },
        {
          "output_type": "execute_result",
          "data": {
            "text/plain": [
              "[<matplotlib.lines.Line2D at 0x7fbc9042e4e0>,\n",
              " <matplotlib.lines.Line2D at 0x7fbc9042e6a0>,\n",
              " <matplotlib.lines.Line2D at 0x7fbc9042e7b8>]"
            ]
          },
          "metadata": {
            "tags": []
          },
          "execution_count": 26
        },
        {
          "output_type": "display_data",
          "data": {
            "image/png": "[encoded data removed]",
            "text/plain": [
              "<Figure size 432x288 with 1 Axes>"
            ]
          },
          "metadata": {
            "tags": [],
            "needs_background": "light"
          }
        }
      ]
    },
    {
      "cell_type": "code",
      "metadata": {
        "id": "0wgI9reDQPf5",
        "colab_type": "code",
        "colab": {}
      },
      "source": [
        "def accuracy_confidence(predictions,labels,threshold=0.5):\n",
        "  \"\"\"Given a confidence threshold, takes into account only the predictions above the threshold\n",
        "  and evaluates accuracy, precision, recall and coverage\n",
        "  \"\"\"\n",
        "  threshold = min(threshold,1-threshold)\n",
        "  clip_preds = predictions.copy()\n",
        "  clip_preds[clip_preds>=0.5]=1\n",
        "  clip_preds[clip_preds<0.5]=0\n",
        "  mask = np.logical_or(predictions<=threshold,predictions>=1-threshold) #mask for predictions above the threshold\n",
        "  predicted = mask.sum()\n",
        "  right_answers = clip_preds == labels\n",
        "  right_answers[np.logical_not(mask)] = False #answers that were not predicted are not counted as correct\n",
        "  correct = right_answers.sum()\n",
        "  if predicted == 0:\n",
        "    acc =0\n",
        "  else:\n",
        "    acc = correct/predicted\n",
        "\n",
        "  predicted_meteors = clip_preds == 0\n",
        "  predicted_meteors[np.logical_not(mask)] = False #removing meteors not predicted on\n",
        "  true_positives = right_answers[predicted_meteors].sum()\n",
        "  if true_positives == 0:\n",
        "    precision = recall = 0\n",
        "  else:\n",
        "    precision = true_positives/predicted_meteors.sum()\n",
        "    true_meteors = labels == 0\n",
        "    true_meteors[np.logical_not(mask)] = False #disconsider the true meteors not predicted on\n",
        "    recall = true_positives/true_meteors.sum()\n",
        "\n",
        "  coverage = predicted/len(labels)\n",
        "  return {'acc':acc ,'cov': coverage , 'prec':precision , 'rec':recall}"
      ],
      "execution_count": 0,
      "outputs": []
    },
    {
      "cell_type": "code",
      "metadata": {
        "colab_type": "code",
        "outputId": "08044c33-32c5-4615-bb27-c7d37008165a",
        "id": "m7bYPmeZx46m",
        "colab": {
          "base_uri": "https://localhost:8080/",
          "height": 286
        }
      },
      "source": [
        "for t in [0.01,0.05,0.1,0.15,0.2,0.25,0.3,0.5]:\n",
        "  print (t)\n",
        "  print(accuracy_confidence(calib_preds,calib_labels,t))\n"
      ],
      "execution_count": 0,
      "outputs": [
        {
          "output_type": "stream",
          "text": [
            "0.01\n",
            "{'acc': 0.9660056657223796, 'cov': 0.5805921052631579, 'prec': 0.9606557377049181, 'rec': 1.0}\n",
            "0.05\n",
            "{'acc': 0.9371069182389937, 'cov': 0.7845394736842105, 'prec': 0.9149560117302052, 'rec': 0.9968051118210862}\n",
            "0.1\n",
            "{'acc': 0.9211538461538461, 'cov': 0.8552631578947368, 'prec': 0.8904494382022472, 'rec': 0.9937304075235109}\n",
            "0.15\n",
            "{'acc': 0.914179104477612, 'cov': 0.881578947368421, 'prec': 0.8833333333333333, 'rec': 0.9875776397515528}\n",
            "0.2\n",
            "{'acc': 0.9057971014492754, 'cov': 0.9078947368421053, 'prec': 0.8712328767123287, 'rec': 0.9845201238390093}\n",
            "0.25\n",
            "{'acc': 0.8980667838312829, 'cov': 0.9358552631578947, 'prec': 0.8579088471849866, 'rec': 0.9846153846153847}\n",
            "0.3\n",
            "{'acc': 0.8934707903780069, 'cov': 0.9572368421052632, 'prec': 0.8541114058355438, 'rec': 0.9787234042553191}\n",
            "0.5\n",
            "{'acc': 0.8782894736842105, 'cov': 1.0, 'prec': 0.8385416666666666, 'rec': 0.9640718562874252}\n"
          ],
          "name": "stdout"
        }
      ]
    },
    {
      "cell_type": "code",
      "metadata": {
        "colab_type": "code",
        "outputId": "9316fb40-1961-4377-d92e-6db5837d7c46",
        "id": "eLRY1QcFx46z",
        "colab": {
          "base_uri": "https://localhost:8080/",
          "height": 286
        }
      },
      "source": [
        "for t in [0.01,0.05,0.1,0.15,0.2,0.25,0.3,0.5]:\n",
        "  print (t)\n",
        "  print(accuracy_confidence(calibrated_calib_preds,calib_labels,t))"
      ],
      "execution_count": 0,
      "outputs": [
        {
          "output_type": "stream",
          "text": [
            "0.01\n",
            "{'acc': 0, 'cov': 0.0, 'prec': 0, 'rec': 0}\n",
            "0.05\n",
            "{'acc': 0.9878048780487805, 'cov': 0.26973684210526316, 'prec': 0, 'rec': 0}\n",
            "0.1\n",
            "{'acc': 0.9743589743589743, 'cov': 0.3207236842105263, 'prec': 0, 'rec': 0}\n",
            "0.15\n",
            "{'acc': 0.9575289575289575, 'cov': 0.8519736842105263, 'prec': 0.954983922829582, 'rec': 0.9737704918032787}\n",
            "0.2\n",
            "{'acc': 0.9240282685512368, 'cov': 0.930921052631579, 'prec': 0.9028571428571428, 'rec': 0.9723076923076923}\n",
            "0.25\n",
            "{'acc': 0.9104991394148021, 'cov': 0.9555921052631579, 'prec': 0.8833333333333333, 'rec': 0.9695121951219512}\n",
            "0.3\n",
            "{'acc': 0.9028960817717206, 'cov': 0.9654605263157895, 'prec': 0.8760330578512396, 'rec': 0.9636363636363636}\n",
            "0.5\n",
            "{'acc': 0.8865131578947368, 'cov': 1.0, 'prec': 0.8496042216358839, 'rec': 0.9640718562874252}\n"
          ],
          "name": "stdout"
        }
      ]
    },
    {
      "cell_type": "code",
      "metadata": {
        "colab_type": "code",
        "outputId": "f494e52e-49bb-402d-fae8-e7c52be24b5a",
        "id": "50cwqT_mx468",
        "colab": {
          "base_uri": "https://localhost:8080/",
          "height": 286
        }
      },
      "source": [
        "for t in [0.01,0.05,0.1,0.15,0.2,0.25,0.3,0.5]:\n",
        "  print (t)\n",
        "  print(accuracy_confidence(ir.predict(calib_preds),calib_labels,t))"
      ],
      "execution_count": 0,
      "outputs": [
        {
          "output_type": "stream",
          "text": [
            "0.01\n",
            "{'acc': 0.9946949602122016, 'cov': 0.6200657894736842, 'prec': 0.9955156950672646, 'rec': 0.9955156950672646}\n",
            "0.05\n",
            "{'acc': 0.9946949602122016, 'cov': 0.6200657894736842, 'prec': 0.9955156950672646, 'rec': 0.9955156950672646}\n",
            "0.1\n",
            "{'acc': 0.9777777777777777, 'cov': 0.8141447368421053, 'prec': 0.9797297297297297, 'rec': 0.9830508474576272}\n",
            "0.15\n",
            "{'acc': 0.9777777777777777, 'cov': 0.8141447368421053, 'prec': 0.9797297297297297, 'rec': 0.9830508474576272}\n",
            "0.2\n",
            "{'acc': 0.9709302325581395, 'cov': 0.8486842105263158, 'prec': 0.9797297297297297, 'rec': 0.9698996655518395}\n",
            "0.25\n",
            "{'acc': 0.9567567567567568, 'cov': 0.912828947368421, 'prec': 0.9797297297297297, 'rec': 0.9415584415584416}\n",
            "0.3\n",
            "{'acc': 0.9567567567567568, 'cov': 0.912828947368421, 'prec': 0.9797297297297297, 'rec': 0.9415584415584416}\n",
            "0.5\n",
            "{'acc': 0.9226973684210527, 'cov': 1.0, 'prec': 0.9283582089552239, 'rec': 0.9311377245508982}\n"
          ],
          "name": "stdout"
        }
      ]
    },
    {
      "cell_type": "code",
      "metadata": {
        "id": "QU0hwq1_CGzo",
        "colab_type": "code",
        "outputId": "5198556d-ae38-45a4-d087-f3c9f2551fee",
        "colab": {
          "base_uri": "https://localhost:8080/",
          "height": 286
        }
      },
      "source": [
        "print(accuracy_confidence(test_preds,test_labels,0.01))"
      ],
      "execution_count": 0,
      "outputs": [
        {
          "output_type": "stream",
          "text": [
            "0.01\n",
            "{'acc': 0.9510763209393346, 'cov': 0.6980874316939891, 'prec': 0.9371657754010695, 'rec': 0.9957386363636364}\n",
            "0.05\n",
            "{'acc': 0.9315175097276265, 'cov': 0.8777322404371585, 'prec': 0.9026128266033254, 'rec': 0.9921671018276762}\n",
            "0.1\n",
            "{'acc': 0.9223300970873787, 'cov': 0.9146174863387978, 'prec': 0.892485549132948, 'rec': 0.9859514687100894}\n",
            "0.15\n",
            "{'acc': 0.9147058823529411, 'cov': 0.9289617486338798, 'prec': 0.8858447488584474, 'rec': 0.9797979797979798}\n",
            "0.2\n",
            "{'acc': 0.91027496382055, 'cov': 0.9439890710382514, 'prec': 0.8806306306306306, 'rec': 0.9775}\n",
            "0.25\n",
            "{'acc': 0.9042857142857142, 'cov': 0.9562841530054644, 'prec': 0.8729096989966555, 'rec': 0.975093399750934}\n",
            "0.3\n",
            "{'acc': 0.8983768525052929, 'cov': 0.967896174863388, 'prec': 0.8672566371681416, 'rec': 0.9702970297029703}\n",
            "0.5\n",
            "{'acc': 0.8866120218579235, 'cov': 1.0, 'prec': 0.8582251082251082, 'rec': 0.9577294685990339}\n"
          ],
          "name": "stdout"
        }
      ]
    },
    {
      "cell_type": "code",
      "metadata": {
        "id": "6Q45UlSYurO1",
        "colab_type": "code",
        "outputId": "b43a385b-94ee-4dd7-9c7d-abb1d30128ef",
        "colab": {
          "base_uri": "https://localhost:8080/",
          "height": 286
        }
      },
      "source": [
        "print(accuracy_confidence(calibrated_test_preds,test_labels,0.05))\n"
      ],
      "execution_count": 0,
      "outputs": [
        {
          "output_type": "stream",
          "text": [
            "0.01\n",
            "{'acc': 0, 'cov': 0.0, 'prec': 0, 'rec': 0}\n",
            "0.05\n",
            "{'acc': 0.976890756302521, 'cov': 0.3251366120218579, 'prec': 0, 'rec': 0}\n",
            "0.1\n",
            "{'acc': 0.9617706237424547, 'cov': 0.3394808743169399, 'prec': 0, 'rec': 0}\n",
            "0.15\n",
            "{'acc': 0.9412685982772122, 'cov': 0.8722677595628415, 'prec': 0.9342105263157895, 'rec': 0.9659863945578231}\n",
            "0.2\n",
            "{'acc': 0.9138305575669804, 'cov': 0.9433060109289617, 'prec': 0.8960280373831776, 'rec': 0.9623588456712673}\n",
            "0.25\n",
            "{'acc': 0.9058073654390935, 'cov': 0.9644808743169399, 'prec': 0.8878718535469108, 'rec': 0.9568434032059187}\n",
            "0.3\n",
            "{'acc': 0.9018232819074333, 'cov': 0.9740437158469946, 'prec': 0.881489841986456, 'rec': 0.9571078431372549}\n",
            "0.5\n",
            "{'acc': 0.8872950819672131, 'cov': 1.0, 'prec': 0.8654906284454245, 'rec': 0.9480676328502415}\n"
          ],
          "name": "stdout"
        }
      ]
    },
    {
      "cell_type": "code",
      "metadata": {
        "id": "bRoyPY-zwhT6",
        "colab_type": "code",
        "outputId": "191129b3-f716-41c0-f932-f518809cf4eb",
        "colab": {
          "base_uri": "https://localhost:8080/",
          "height": 286
        }
      },
      "source": [
        "print(accuracy_confidence(ir.predict(test_preds),test_labels,0.05))"
      ],
      "execution_count": 0,
      "outputs": [
        {
          "output_type": "stream",
          "text": [
            "0.01\n",
            "{'acc': 0.9868565169769989, 'cov': 0.6236338797814208, 'prec': 0.9890350877192983, 'rec': 0.9847161572052402}\n",
            "0.05\n",
            "{'acc': 0.9868565169769989, 'cov': 0.6236338797814208, 'prec': 0.9890350877192983, 'rec': 0.9847161572052402}\n",
            "0.1\n",
            "{'acc': 0.9548069022185702, 'cov': 0.8312841530054644, 'prec': 0.9523141654978962, 'rec': 0.97}\n",
            "0.15\n",
            "{'acc': 0.9548069022185702, 'cov': 0.8312841530054644, 'prec': 0.9523141654978962, 'rec': 0.97}\n",
            "0.2\n",
            "{'acc': 0.9460981496379727, 'cov': 0.8490437158469946, 'prec': 0.9523141654978962, 'rec': 0.9536516853932584}\n",
            "0.25\n",
            "{'acc': 0.9280847842543528, 'cov': 0.9023224043715847, 'prec': 0.9523141654978962, 'rec': 0.9175675675675675}\n",
            "0.3\n",
            "{'acc': 0.9273827534039334, 'cov': 0.9030054644808743, 'prec': 0.9523141654978962, 'rec': 0.9163292847503374}\n",
            "0.5\n",
            "{'acc': 0.8941256830601093, 'cov': 1.0, 'prec': 0.9108669108669109, 'rec': 0.9009661835748792}\n"
          ],
          "name": "stdout"
        }
      ]
    },
    {
      "cell_type": "code",
      "metadata": {
        "id": "5doF8I8DsE9q",
        "colab_type": "code",
        "colab": {}
      },
      "source": [
        "import torch\n",
        "from torch import nn, optim\n",
        "from torch.nn import functional as F\n",
        "\n",
        "\n",
        "class ModelWithTemperature(nn.Module):\n",
        "    \"\"\"\n",
        "    A thin decorator, which wraps a model with temperature scaling\n",
        "    model (nn.Module):\n",
        "        A classification neural network\n",
        "        NB: Output of the neural network should be the classification logits,\n",
        "            NOT the softmax (or log softmax)!\n",
        "    \"\"\"\n",
        "    def __init__(self, model):\n",
        "        super(ModelWithTemperature, self).__init__()\n",
        "        self.model = model\n",
        "        self.temperature = nn.Parameter(torch.ones(1) * 1.5)\n",
        "\n",
        "    def forward(self, input):\n",
        "        logits = self.model(input)\n",
        "        return self.temperature_scale(logits)\n",
        "\n",
        "    def temperature_scale(self, logits):\n",
        "        \"\"\"\n",
        "        Perform temperature scaling on logits\n",
        "        \"\"\"\n",
        "        # Expand temperature to match the size of logits\n",
        "        temperature = self.temperature.unsqueeze(1).expand(logits.size(0), logits.size(1))\n",
        "        return logits / temperature\n",
        "\n",
        "    # This function probably should live outside of this class, but whatever\n",
        "    def set_temperature(self, valid_loader):\n",
        "        \"\"\"\n",
        "        Tune the tempearature of the model (using the validation set).\n",
        "        We're going to set it to optimize NLL.\n",
        "        valid_loader (DataLoader): validation set loader\n",
        "        \"\"\"\n",
        "        self.cuda()\n",
        "        nll_criterion = nn.CrossEntropyLoss().cuda()\n",
        "        ece_criterion = _ECELoss().cuda()\n",
        "\n",
        "        # First: collect all the logits and labels for the validation set\n",
        "        logits_list = []\n",
        "        labels_list = []\n",
        "        with torch.no_grad():\n",
        "            for input, label in valid_loader:\n",
        "                input = input.cuda()\n",
        "                logits = self.model(input)\n",
        "                logits_list.append(logits)\n",
        "                labels_list.append(label)\n",
        "            logits = torch.cat(logits_list).cuda()\n",
        "            labels = torch.cat(labels_list).cuda()\n",
        "\n",
        "        # Calculate NLL and ECE before temperature scaling\n",
        "        before_temperature_nll = nll_criterion(logits, labels).item()\n",
        "        before_temperature_ece = ece_criterion(logits, labels).item()\n",
        "        print('Before temperature - NLL: %.3f, ECE: %.3f' % (before_temperature_nll, before_temperature_ece))\n",
        "\n",
        "        # Next: optimize the temperature w.r.t. NLL\n",
        "        optimizer = optim.LBFGS([self.temperature], lr=0.01, max_iter=1e3)\n",
        "\n",
        "        def eval():\n",
        "            loss = nll_criterion(self.temperature_scale(logits), labels)\n",
        "            optimizer.zero_grad()\n",
        "            loss.backward()\n",
        "            return loss\n",
        "        optimizer.step(eval)\n",
        "\n",
        "        # Calculate NLL and ECE after temperature scaling\n",
        "        after_temperature_nll = nll_criterion(self.temperature_scale(logits), labels).item()\n",
        "        after_temperature_ece = ece_criterion(self.temperature_scale(logits), labels).item()\n",
        "        print('Optimal temperature: %.3f' % self.temperature.item())\n",
        "        print('After temperature - NLL: %.3f, ECE: %.3f' % (after_temperature_nll, after_temperature_ece))\n",
        "\n",
        "        return self\n",
        "\n",
        "\n",
        "class _ECELoss(nn.Module):\n",
        "    \"\"\"\n",
        "    Calculates the Expected Calibration Error of a model.\n",
        "    (This isn't necessary for temperature scaling, just a cool metric).\n",
        "    The input to this loss is the logits of a model, NOT the softmax scores.\n",
        "    This divides the confidence outputs into equally-sized interval bins.\n",
        "    In each bin, we compute the confidence gap:\n",
        "    bin_gap = | avg_confidence_in_bin - accuracy_in_bin |\n",
        "    We then return a weighted average of the gaps, based on the number\n",
        "    of samples in each bin\n",
        "    See: Naeini, Mahdi Pakdaman, Gregory F. Cooper, and Milos Hauskrecht.\n",
        "    \"Obtaining Well Calibrated Probabilities Using Bayesian Binning.\" AAAI.\n",
        "    2015.\n",
        "    \"\"\"\n",
        "    def __init__(self, n_bins=15):\n",
        "        \"\"\"\n",
        "        n_bins (int): number of confidence interval bins\n",
        "        \"\"\"\n",
        "        super(_ECELoss, self).__init__()\n",
        "        bin_boundaries = torch.linspace(0, 1, n_bins + 1)\n",
        "        self.bin_lowers = bin_boundaries[:-1]\n",
        "        self.bin_uppers = bin_boundaries[1:]\n",
        "\n",
        "    def forward(self, logits, labels):\n",
        "        softmaxes = F.softmax(logits, dim=1)\n",
        "        confidences, predictions = torch.max(softmaxes, 1)\n",
        "        accuracies = predictions.eq(labels)\n",
        "\n",
        "        ece = torch.zeros(1, device=logits.device)\n",
        "        for bin_lower, bin_upper in zip(self.bin_lowers, self.bin_uppers):\n",
        "            # Calculated |confidence - accuracy| in each bin\n",
        "            in_bin = confidences.gt(bin_lower.item()) * confidences.le(bin_upper.item())\n",
        "            prop_in_bin = in_bin.float().mean()\n",
        "            if prop_in_bin.item() > 0:\n",
        "                accuracy_in_bin = accuracies[in_bin].float().mean()\n",
        "                avg_confidence_in_bin = confidences[in_bin].mean()\n",
        "                ece += torch.abs(avg_confidence_in_bin - accuracy_in_bin) * prop_in_bin\n",
        "\n",
        "        return ece"
      ],
      "execution_count": 0,
      "outputs": []
    },
    {
      "cell_type": "code",
      "metadata": {
        "id": "NZsJM7k44z0g",
        "colab_type": "code",
        "outputId": "74d6bf0e-a5b0-4f01-fcbf-bb320a5f42a5",
        "colab": {
          "base_uri": "https://localhost:8080/",
          "height": 320
        }
      },
      "source": [
        "loss = _ECELoss()\n",
        "print (loss(torch.Tensor(ir.predict(test_preds)),torch.tensor(test_labels)))"
      ],
      "execution_count": 0,
      "outputs": [
        {
          "output_type": "error",
          "ename": "AttributeError",
          "evalue": "ignored",
          "traceback": [
            "\u001b[0;31m---------------------------------------------------------------------------\u001b[0m",
            "\u001b[0;31mAttributeError\u001b[0m                            Traceback (most recent call last)",
            "\u001b[0;32m<ipython-input-47-160abfb785e7>\u001b[0m in \u001b[0;36m<module>\u001b[0;34m()\u001b[0m\n\u001b[1;32m      1\u001b[0m \u001b[0mloss\u001b[0m \u001b[0;34m=\u001b[0m \u001b[0m_ECELoss\u001b[0m\u001b[0;34m(\u001b[0m\u001b[0;34m)\u001b[0m\u001b[0;34m\u001b[0m\u001b[0;34m\u001b[0m\u001b[0m\n\u001b[0;32m----> 2\u001b[0;31m \u001b[0mprint\u001b[0m \u001b[0;34m(\u001b[0m\u001b[0mloss\u001b[0m\u001b[0;34m(\u001b[0m\u001b[0mir\u001b[0m\u001b[0;34m.\u001b[0m\u001b[0mpredict\u001b[0m\u001b[0;34m(\u001b[0m\u001b[0mtest_preds\u001b[0m\u001b[0;34m)\u001b[0m\u001b[0;34m,\u001b[0m\u001b[0mtest_labels\u001b[0m\u001b[0;34m)\u001b[0m\u001b[0;34m)\u001b[0m\u001b[0;34m\u001b[0m\u001b[0;34m\u001b[0m\u001b[0m\n\u001b[0m",
            "\u001b[0;32m/usr/local/lib/python3.6/dist-packages/torch/nn/modules/module.py\u001b[0m in \u001b[0;36m__call__\u001b[0;34m(self, *input, **kwargs)\u001b[0m\n\u001b[1;32m    548\u001b[0m             \u001b[0mresult\u001b[0m \u001b[0;34m=\u001b[0m \u001b[0mself\u001b[0m\u001b[0;34m.\u001b[0m\u001b[0m_slow_forward\u001b[0m\u001b[0;34m(\u001b[0m\u001b[0;34m*\u001b[0m\u001b[0minput\u001b[0m\u001b[0;34m,\u001b[0m \u001b[0;34m**\u001b[0m\u001b[0mkwargs\u001b[0m\u001b[0;34m)\u001b[0m\u001b[0;34m\u001b[0m\u001b[0;34m\u001b[0m\u001b[0m\n\u001b[1;32m    549\u001b[0m         \u001b[0;32melse\u001b[0m\u001b[0;34m:\u001b[0m\u001b[0;34m\u001b[0m\u001b[0;34m\u001b[0m\u001b[0m\n\u001b[0;32m--> 550\u001b[0;31m             \u001b[0mresult\u001b[0m \u001b[0;34m=\u001b[0m \u001b[0mself\u001b[0m\u001b[0;34m.\u001b[0m\u001b[0mforward\u001b[0m\u001b[0;34m(\u001b[0m\u001b[0;34m*\u001b[0m\u001b[0minput\u001b[0m\u001b[0;34m,\u001b[0m \u001b[0;34m**\u001b[0m\u001b[0mkwargs\u001b[0m\u001b[0;34m)\u001b[0m\u001b[0;34m\u001b[0m\u001b[0;34m\u001b[0m\u001b[0m\n\u001b[0m\u001b[1;32m    551\u001b[0m         \u001b[0;32mfor\u001b[0m \u001b[0mhook\u001b[0m \u001b[0;32min\u001b[0m \u001b[0mself\u001b[0m\u001b[0;34m.\u001b[0m\u001b[0m_forward_hooks\u001b[0m\u001b[0;34m.\u001b[0m\u001b[0mvalues\u001b[0m\u001b[0;34m(\u001b[0m\u001b[0;34m)\u001b[0m\u001b[0;34m:\u001b[0m\u001b[0;34m\u001b[0m\u001b[0;34m\u001b[0m\u001b[0m\n\u001b[1;32m    552\u001b[0m             \u001b[0mhook_result\u001b[0m \u001b[0;34m=\u001b[0m \u001b[0mhook\u001b[0m\u001b[0;34m(\u001b[0m\u001b[0mself\u001b[0m\u001b[0;34m,\u001b[0m \u001b[0minput\u001b[0m\u001b[0;34m,\u001b[0m \u001b[0mresult\u001b[0m\u001b[0;34m)\u001b[0m\u001b[0;34m\u001b[0m\u001b[0;34m\u001b[0m\u001b[0m\n",
            "\u001b[0;32m<ipython-input-27-96ce38367203>\u001b[0m in \u001b[0;36mforward\u001b[0;34m(self, logits, labels)\u001b[0m\n\u001b[1;32m    100\u001b[0m \u001b[0;34m\u001b[0m\u001b[0m\n\u001b[1;32m    101\u001b[0m     \u001b[0;32mdef\u001b[0m \u001b[0mforward\u001b[0m\u001b[0;34m(\u001b[0m\u001b[0mself\u001b[0m\u001b[0;34m,\u001b[0m \u001b[0mlogits\u001b[0m\u001b[0;34m,\u001b[0m \u001b[0mlabels\u001b[0m\u001b[0;34m)\u001b[0m\u001b[0;34m:\u001b[0m\u001b[0;34m\u001b[0m\u001b[0;34m\u001b[0m\u001b[0m\n\u001b[0;32m--> 102\u001b[0;31m         \u001b[0msoftmaxes\u001b[0m \u001b[0;34m=\u001b[0m \u001b[0mF\u001b[0m\u001b[0;34m.\u001b[0m\u001b[0msoftmax\u001b[0m\u001b[0;34m(\u001b[0m\u001b[0mlogits\u001b[0m\u001b[0;34m,\u001b[0m \u001b[0mdim\u001b[0m\u001b[0;34m=\u001b[0m\u001b[0;36m1\u001b[0m\u001b[0;34m)\u001b[0m\u001b[0;34m\u001b[0m\u001b[0;34m\u001b[0m\u001b[0m\n\u001b[0m\u001b[1;32m    103\u001b[0m         \u001b[0mconfidences\u001b[0m\u001b[0;34m,\u001b[0m \u001b[0mpredictions\u001b[0m \u001b[0;34m=\u001b[0m \u001b[0mtorch\u001b[0m\u001b[0;34m.\u001b[0m\u001b[0mmax\u001b[0m\u001b[0;34m(\u001b[0m\u001b[0msoftmaxes\u001b[0m\u001b[0;34m,\u001b[0m \u001b[0;36m1\u001b[0m\u001b[0;34m)\u001b[0m\u001b[0;34m\u001b[0m\u001b[0;34m\u001b[0m\u001b[0m\n\u001b[1;32m    104\u001b[0m         \u001b[0maccuracies\u001b[0m \u001b[0;34m=\u001b[0m \u001b[0mpredictions\u001b[0m\u001b[0;34m.\u001b[0m\u001b[0meq\u001b[0m\u001b[0;34m(\u001b[0m\u001b[0mlabels\u001b[0m\u001b[0;34m)\u001b[0m\u001b[0;34m\u001b[0m\u001b[0;34m\u001b[0m\u001b[0m\n",
            "\u001b[0;32m/usr/local/lib/python3.6/dist-packages/torch/nn/functional.py\u001b[0m in \u001b[0;36msoftmax\u001b[0;34m(input, dim, _stacklevel, dtype)\u001b[0m\n\u001b[1;32m   1440\u001b[0m         \u001b[0mdim\u001b[0m \u001b[0;34m=\u001b[0m \u001b[0m_get_softmax_dim\u001b[0m\u001b[0;34m(\u001b[0m\u001b[0;34m'softmax'\u001b[0m\u001b[0;34m,\u001b[0m \u001b[0minput\u001b[0m\u001b[0;34m.\u001b[0m\u001b[0mdim\u001b[0m\u001b[0;34m(\u001b[0m\u001b[0;34m)\u001b[0m\u001b[0;34m,\u001b[0m \u001b[0m_stacklevel\u001b[0m\u001b[0;34m)\u001b[0m\u001b[0;34m\u001b[0m\u001b[0;34m\u001b[0m\u001b[0m\n\u001b[1;32m   1441\u001b[0m     \u001b[0;32mif\u001b[0m \u001b[0mdtype\u001b[0m \u001b[0;32mis\u001b[0m \u001b[0;32mNone\u001b[0m\u001b[0;34m:\u001b[0m\u001b[0;34m\u001b[0m\u001b[0;34m\u001b[0m\u001b[0m\n\u001b[0;32m-> 1442\u001b[0;31m         \u001b[0mret\u001b[0m \u001b[0;34m=\u001b[0m \u001b[0minput\u001b[0m\u001b[0;34m.\u001b[0m\u001b[0msoftmax\u001b[0m\u001b[0;34m(\u001b[0m\u001b[0mdim\u001b[0m\u001b[0;34m)\u001b[0m\u001b[0;34m\u001b[0m\u001b[0;34m\u001b[0m\u001b[0m\n\u001b[0m\u001b[1;32m   1443\u001b[0m     \u001b[0;32melse\u001b[0m\u001b[0;34m:\u001b[0m\u001b[0;34m\u001b[0m\u001b[0;34m\u001b[0m\u001b[0m\n\u001b[1;32m   1444\u001b[0m         \u001b[0mret\u001b[0m \u001b[0;34m=\u001b[0m \u001b[0minput\u001b[0m\u001b[0;34m.\u001b[0m\u001b[0msoftmax\u001b[0m\u001b[0;34m(\u001b[0m\u001b[0mdim\u001b[0m\u001b[0;34m,\u001b[0m \u001b[0mdtype\u001b[0m\u001b[0;34m=\u001b[0m\u001b[0mdtype\u001b[0m\u001b[0;34m)\u001b[0m\u001b[0;34m\u001b[0m\u001b[0;34m\u001b[0m\u001b[0m\n",
            "\u001b[0;31mAttributeError\u001b[0m: 'numpy.ndarray' object has no attribute 'softmax'"
          ]
        }
      ]
    },
    {
      "cell_type": "code",
      "metadata": {
        "id": "7gKWW43usHAQ",
        "colab_type": "code",
        "outputId": "16515656-1a58-4d5c-bfcb-9e6a5ca43707",
        "colab": {
          "base_uri": "https://localhost:8080/",
          "height": 1000
        }
      },
      "source": [
        "calibrated_model = ModelWithTemperature(learner.model)\n",
        "calibrated_model.set_temperature(torch.utils.data.DataLoader(image_datasets['calib'],batch_size=64))"
      ],
      "execution_count": 0,
      "outputs": [
        {
          "output_type": "stream",
          "text": [
            "Before temperature - NLL: 0.404, ECE: 0.078\n",
            "Optimal temperature: 2.344\n",
            "After temperature - NLL: 0.295, ECE: 0.024\n"
          ],
          "name": "stdout"
        },
        {
          "output_type": "execute_result",
          "data": {
            "text/plain": [
              "ModelWithTemperature(\n",
              "  (model): ResNet(\n",
              "    (conv1): Conv2d(3, 64, kernel_size=(7, 7), stride=(2, 2), padding=(3, 3), bias=False)\n",
              "    (bn1): BatchNorm2d(64, eps=1e-05, momentum=0.1, affine=True, track_running_stats=True)\n",
              "    (relu): ReLU(inplace=True)\n",
              "    (maxpool): MaxPool2d(kernel_size=3, stride=2, padding=1, dilation=1, ceil_mode=False)\n",
              "    (layer1): Sequential(\n",
              "      (0): Bottleneck(\n",
              "        (conv1): Conv2d(64, 64, kernel_size=(1, 1), stride=(1, 1), bias=False)\n",
              "        (bn1): BatchNorm2d(64, eps=1e-05, momentum=0.1, affine=True, track_running_stats=True)\n",
              "        (conv2): Conv2d(64, 64, kernel_size=(3, 3), stride=(1, 1), padding=(1, 1), bias=False)\n",
              "        (bn2): BatchNorm2d(64, eps=1e-05, momentum=0.1, affine=True, track_running_stats=True)\n",
              "        (conv3): Conv2d(64, 256, kernel_size=(1, 1), stride=(1, 1), bias=False)\n",
              "        (bn3): BatchNorm2d(256, eps=1e-05, momentum=0.1, affine=True, track_running_stats=True)\n",
              "        (relu): ReLU(inplace=True)\n",
              "        (downsample): Sequential(\n",
              "          (0): Conv2d(64, 256, kernel_size=(1, 1), stride=(1, 1), bias=False)\n",
              "          (1): BatchNorm2d(256, eps=1e-05, momentum=0.1, affine=True, track_running_stats=True)\n",
              "        )\n",
              "      )\n",
              "      (1): Bottleneck(\n",
              "        (conv1): Conv2d(256, 64, kernel_size=(1, 1), stride=(1, 1), bias=False)\n",
              "        (bn1): BatchNorm2d(64, eps=1e-05, momentum=0.1, affine=True, track_running_stats=True)\n",
              "        (conv2): Conv2d(64, 64, kernel_size=(3, 3), stride=(1, 1), padding=(1, 1), bias=False)\n",
              "        (bn2): BatchNorm2d(64, eps=1e-05, momentum=0.1, affine=True, track_running_stats=True)\n",
              "        (conv3): Conv2d(64, 256, kernel_size=(1, 1), stride=(1, 1), bias=False)\n",
              "        (bn3): BatchNorm2d(256, eps=1e-05, momentum=0.1, affine=True, track_running_stats=True)\n",
              "        (relu): ReLU(inplace=True)\n",
              "      )\n",
              "      (2): Bottleneck(\n",
              "        (conv1): Conv2d(256, 64, kernel_size=(1, 1), stride=(1, 1), bias=False)\n",
              "        (bn1): BatchNorm2d(64, eps=1e-05, momentum=0.1, affine=True, track_running_stats=True)\n",
              "        (conv2): Conv2d(64, 64, kernel_size=(3, 3), stride=(1, 1), padding=(1, 1), bias=False)\n",
              "        (bn2): BatchNorm2d(64, eps=1e-05, momentum=0.1, affine=True, track_running_stats=True)\n",
              "        (conv3): Conv2d(64, 256, kernel_size=(1, 1), stride=(1, 1), bias=False)\n",
              "        (bn3): BatchNorm2d(256, eps=1e-05, momentum=0.1, affine=True, track_running_stats=True)\n",
              "        (relu): ReLU(inplace=True)\n",
              "      )\n",
              "    )\n",
              "    (layer2): Sequential(\n",
              "      (0): Bottleneck(\n",
              "        (conv1): Conv2d(256, 128, kernel_size=(1, 1), stride=(1, 1), bias=False)\n",
              "        (bn1): BatchNorm2d(128, eps=1e-05, momentum=0.1, affine=True, track_running_stats=True)\n",
              "        (conv2): Conv2d(128, 128, kernel_size=(3, 3), stride=(2, 2), padding=(1, 1), bias=False)\n",
              "        (bn2): BatchNorm2d(128, eps=1e-05, momentum=0.1, affine=True, track_running_stats=True)\n",
              "        (conv3): Conv2d(128, 512, kernel_size=(1, 1), stride=(1, 1), bias=False)\n",
              "        (bn3): BatchNorm2d(512, eps=1e-05, momentum=0.1, affine=True, track_running_stats=True)\n",
              "        (relu): ReLU(inplace=True)\n",
              "        (downsample): Sequential(\n",
              "          (0): Conv2d(256, 512, kernel_size=(1, 1), stride=(2, 2), bias=False)\n",
              "          (1): BatchNorm2d(512, eps=1e-05, momentum=0.1, affine=True, track_running_stats=True)\n",
              "        )\n",
              "      )\n",
              "      (1): Bottleneck(\n",
              "        (conv1): Conv2d(512, 128, kernel_size=(1, 1), stride=(1, 1), bias=False)\n",
              "        (bn1): BatchNorm2d(128, eps=1e-05, momentum=0.1, affine=True, track_running_stats=True)\n",
              "        (conv2): Conv2d(128, 128, kernel_size=(3, 3), stride=(1, 1), padding=(1, 1), bias=False)\n",
              "        (bn2): BatchNorm2d(128, eps=1e-05, momentum=0.1, affine=True, track_running_stats=True)\n",
              "        (conv3): Conv2d(128, 512, kernel_size=(1, 1), stride=(1, 1), bias=False)\n",
              "        (bn3): BatchNorm2d(512, eps=1e-05, momentum=0.1, affine=True, track_running_stats=True)\n",
              "        (relu): ReLU(inplace=True)\n",
              "      )\n",
              "      (2): Bottleneck(\n",
              "        (conv1): Conv2d(512, 128, kernel_size=(1, 1), stride=(1, 1), bias=False)\n",
              "        (bn1): BatchNorm2d(128, eps=1e-05, momentum=0.1, affine=True, track_running_stats=True)\n",
              "        (conv2): Conv2d(128, 128, kernel_size=(3, 3), stride=(1, 1), padding=(1, 1), bias=False)\n",
              "        (bn2): BatchNorm2d(128, eps=1e-05, momentum=0.1, affine=True, track_running_stats=True)\n",
              "        (conv3): Conv2d(128, 512, kernel_size=(1, 1), stride=(1, 1), bias=False)\n",
              "        (bn3): BatchNorm2d(512, eps=1e-05, momentum=0.1, affine=True, track_running_stats=True)\n",
              "        (relu): ReLU(inplace=True)\n",
              "      )\n",
              "      (3): Bottleneck(\n",
              "        (conv1): Conv2d(512, 128, kernel_size=(1, 1), stride=(1, 1), bias=False)\n",
              "        (bn1): BatchNorm2d(128, eps=1e-05, momentum=0.1, affine=True, track_running_stats=True)\n",
              "        (conv2): Conv2d(128, 128, kernel_size=(3, 3), stride=(1, 1), padding=(1, 1), bias=False)\n",
              "        (bn2): BatchNorm2d(128, eps=1e-05, momentum=0.1, affine=True, track_running_stats=True)\n",
              "        (conv3): Conv2d(128, 512, kernel_size=(1, 1), stride=(1, 1), bias=False)\n",
              "        (bn3): BatchNorm2d(512, eps=1e-05, momentum=0.1, affine=True, track_running_stats=True)\n",
              "        (relu): ReLU(inplace=True)\n",
              "      )\n",
              "    )\n",
              "    (layer3): Sequential(\n",
              "      (0): Bottleneck(\n",
              "        (conv1): Conv2d(512, 256, kernel_size=(1, 1), stride=(1, 1), bias=False)\n",
              "        (bn1): BatchNorm2d(256, eps=1e-05, momentum=0.1, affine=True, track_running_stats=True)\n",
              "        (conv2): Conv2d(256, 256, kernel_size=(3, 3), stride=(2, 2), padding=(1, 1), bias=False)\n",
              "        (bn2): BatchNorm2d(256, eps=1e-05, momentum=0.1, affine=True, track_running_stats=True)\n",
              "        (conv3): Conv2d(256, 1024, kernel_size=(1, 1), stride=(1, 1), bias=False)\n",
              "        (bn3): BatchNorm2d(1024, eps=1e-05, momentum=0.1, affine=True, track_running_stats=True)\n",
              "        (relu): ReLU(inplace=True)\n",
              "        (downsample): Sequential(\n",
              "          (0): Conv2d(512, 1024, kernel_size=(1, 1), stride=(2, 2), bias=False)\n",
              "          (1): BatchNorm2d(1024, eps=1e-05, momentum=0.1, affine=True, track_running_stats=True)\n",
              "        )\n",
              "      )\n",
              "      (1): Bottleneck(\n",
              "        (conv1): Conv2d(1024, 256, kernel_size=(1, 1), stride=(1, 1), bias=False)\n",
              "        (bn1): BatchNorm2d(256, eps=1e-05, momentum=0.1, affine=True, track_running_stats=True)\n",
              "        (conv2): Conv2d(256, 256, kernel_size=(3, 3), stride=(1, 1), padding=(1, 1), bias=False)\n",
              "        (bn2): BatchNorm2d(256, eps=1e-05, momentum=0.1, affine=True, track_running_stats=True)\n",
              "        (conv3): Conv2d(256, 1024, kernel_size=(1, 1), stride=(1, 1), bias=False)\n",
              "        (bn3): BatchNorm2d(1024, eps=1e-05, momentum=0.1, affine=True, track_running_stats=True)\n",
              "        (relu): ReLU(inplace=True)\n",
              "      )\n",
              "      (2): Bottleneck(\n",
              "        (conv1): Conv2d(1024, 256, kernel_size=(1, 1), stride=(1, 1), bias=False)\n",
              "        (bn1): BatchNorm2d(256, eps=1e-05, momentum=0.1, affine=True, track_running_stats=True)\n",
              "        (conv2): Conv2d(256, 256, kernel_size=(3, 3), stride=(1, 1), padding=(1, 1), bias=False)\n",
              "        (bn2): BatchNorm2d(256, eps=1e-05, momentum=0.1, affine=True, track_running_stats=True)\n",
              "        (conv3): Conv2d(256, 1024, kernel_size=(1, 1), stride=(1, 1), bias=False)\n",
              "        (bn3): BatchNorm2d(1024, eps=1e-05, momentum=0.1, affine=True, track_running_stats=True)\n",
              "        (relu): ReLU(inplace=True)\n",
              "      )\n",
              "      (3): Bottleneck(\n",
              "        (conv1): Conv2d(1024, 256, kernel_size=(1, 1), stride=(1, 1), bias=False)\n",
              "        (bn1): BatchNorm2d(256, eps=1e-05, momentum=0.1, affine=True, track_running_stats=True)\n",
              "        (conv2): Conv2d(256, 256, kernel_size=(3, 3), stride=(1, 1), padding=(1, 1), bias=False)\n",
              "        (bn2): BatchNorm2d(256, eps=1e-05, momentum=0.1, affine=True, track_running_stats=True)\n",
              "        (conv3): Conv2d(256, 1024, kernel_size=(1, 1), stride=(1, 1), bias=False)\n",
              "        (bn3): BatchNorm2d(1024, eps=1e-05, momentum=0.1, affine=True, track_running_stats=True)\n",
              "        (relu): ReLU(inplace=True)\n",
              "      )\n",
              "      (4): Bottleneck(\n",
              "        (conv1): Conv2d(1024, 256, kernel_size=(1, 1), stride=(1, 1), bias=False)\n",
              "        (bn1): BatchNorm2d(256, eps=1e-05, momentum=0.1, affine=True, track_running_stats=True)\n",
              "        (conv2): Conv2d(256, 256, kernel_size=(3, 3), stride=(1, 1), padding=(1, 1), bias=False)\n",
              "        (bn2): BatchNorm2d(256, eps=1e-05, momentum=0.1, affine=True, track_running_stats=True)\n",
              "        (conv3): Conv2d(256, 1024, kernel_size=(1, 1), stride=(1, 1), bias=False)\n",
              "        (bn3): BatchNorm2d(1024, eps=1e-05, momentum=0.1, affine=True, track_running_stats=True)\n",
              "        (relu): ReLU(inplace=True)\n",
              "      )\n",
              "      (5): Bottleneck(\n",
              "        (conv1): Conv2d(1024, 256, kernel_size=(1, 1), stride=(1, 1), bias=False)\n",
              "        (bn1): BatchNorm2d(256, eps=1e-05, momentum=0.1, affine=True, track_running_stats=True)\n",
              "        (conv2): Conv2d(256, 256, kernel_size=(3, 3), stride=(1, 1), padding=(1, 1), bias=False)\n",
              "        (bn2): BatchNorm2d(256, eps=1e-05, momentum=0.1, affine=True, track_running_stats=True)\n",
              "        (conv3): Conv2d(256, 1024, kernel_size=(1, 1), stride=(1, 1), bias=False)\n",
              "        (bn3): BatchNorm2d(1024, eps=1e-05, momentum=0.1, affine=True, track_running_stats=True)\n",
              "        (relu): ReLU(inplace=True)\n",
              "      )\n",
              "    )\n",
              "    (layer4): Sequential(\n",
              "      (0): Bottleneck(\n",
              "        (conv1): Conv2d(1024, 512, kernel_size=(1, 1), stride=(1, 1), bias=False)\n",
              "        (bn1): BatchNorm2d(512, eps=1e-05, momentum=0.1, affine=True, track_running_stats=True)\n",
              "        (conv2): Conv2d(512, 512, kernel_size=(3, 3), stride=(2, 2), padding=(1, 1), bias=False)\n",
              "        (bn2): BatchNorm2d(512, eps=1e-05, momentum=0.1, affine=True, track_running_stats=True)\n",
              "        (conv3): Conv2d(512, 2048, kernel_size=(1, 1), stride=(1, 1), bias=False)\n",
              "        (bn3): BatchNorm2d(2048, eps=1e-05, momentum=0.1, affine=True, track_running_stats=True)\n",
              "        (relu): ReLU(inplace=True)\n",
              "        (downsample): Sequential(\n",
              "          (0): Conv2d(1024, 2048, kernel_size=(1, 1), stride=(2, 2), bias=False)\n",
              "          (1): BatchNorm2d(2048, eps=1e-05, momentum=0.1, affine=True, track_running_stats=True)\n",
              "        )\n",
              "      )\n",
              "      (1): Bottleneck(\n",
              "        (conv1): Conv2d(2048, 512, kernel_size=(1, 1), stride=(1, 1), bias=False)\n",
              "        (bn1): BatchNorm2d(512, eps=1e-05, momentum=0.1, affine=True, track_running_stats=True)\n",
              "        (conv2): Conv2d(512, 512, kernel_size=(3, 3), stride=(1, 1), padding=(1, 1), bias=False)\n",
              "        (bn2): BatchNorm2d(512, eps=1e-05, momentum=0.1, affine=True, track_running_stats=True)\n",
              "        (conv3): Conv2d(512, 2048, kernel_size=(1, 1), stride=(1, 1), bias=False)\n",
              "        (bn3): BatchNorm2d(2048, eps=1e-05, momentum=0.1, affine=True, track_running_stats=True)\n",
              "        (relu): ReLU(inplace=True)\n",
              "      )\n",
              "      (2): Bottleneck(\n",
              "        (conv1): Conv2d(2048, 512, kernel_size=(1, 1), stride=(1, 1), bias=False)\n",
              "        (bn1): BatchNorm2d(512, eps=1e-05, momentum=0.1, affine=True, track_running_stats=True)\n",
              "        (conv2): Conv2d(512, 512, kernel_size=(3, 3), stride=(1, 1), padding=(1, 1), bias=False)\n",
              "        (bn2): BatchNorm2d(512, eps=1e-05, momentum=0.1, affine=True, track_running_stats=True)\n",
              "        (conv3): Conv2d(512, 2048, kernel_size=(1, 1), stride=(1, 1), bias=False)\n",
              "        (bn3): BatchNorm2d(2048, eps=1e-05, momentum=0.1, affine=True, track_running_stats=True)\n",
              "        (relu): ReLU(inplace=True)\n",
              "      )\n",
              "    )\n",
              "    (avgpool): AdaptiveAvgPool2d(output_size=(1, 1))\n",
              "    (fc): Sequential(\n",
              "      (0): Linear(in_features=2048, out_features=1024, bias=True)\n",
              "      (1): ReLU()\n",
              "      (2): Linear(in_features=1024, out_features=2, bias=True)\n",
              "    )\n",
              "  )\n",
              ")"
            ]
          },
          "metadata": {
            "tags": []
          },
          "execution_count": 28
        }
      ]
    },
    {
      "cell_type": "code",
      "metadata": {
        "id": "NTJgsRHzuIi_",
        "colab_type": "code",
        "colab": {}
      },
      "source": [
        "new_learner=Learner(calibrated_model,criterion)\n",
        "temperature_calib_preds = new_learner.predict(image_datasets['calib'],128,2)\n",
        "temperature_calib_preds = temperature_calib_preds[:,1].numpy()\n",
        "\n",
        "temperature_test_preds = learner.predict(image_datasets['test'],128,2)\n",
        "temperature_test_preds = temperature_test_preds[:,1].numpy()"
      ],
      "execution_count": 0,
      "outputs": []
    },
    {
      "cell_type": "code",
      "metadata": {
        "colab_type": "code",
        "outputId": "0cacccd3-5c5d-4d3a-971c-8bb6acfd7cfd",
        "id": "DxSpwlDwuair",
        "colab": {
          "base_uri": "https://localhost:8080/",
          "height": 349
        }
      },
      "source": [
        "print(metrics.log_loss(calib_labels,\n",
        "                       calib_preds,eps=1e-7))\n",
        "print(metrics.log_loss(calib_labels,\n",
        "                       temperature_calib_preds,eps=1e-7))\n",
        "y1,x1 =  calibration.calibration_curve( calib_labels, calib_preds, normalize=False, n_bins=5)\n",
        "y2,x2 =  calibration.calibration_curve( calib_labels, temperature_calib_preds, normalize=False, n_bins=5)\n",
        "plt.plot(x1,y1,'bo--',x2,y2,'ko--',[0,1],[0,1],'m')"
      ],
      "execution_count": 0,
      "outputs": [
        {
          "output_type": "stream",
          "text": [
            "0.40388116652413997\n",
            "0.2948497999688255\n"
          ],
          "name": "stdout"
        },
        {
          "output_type": "execute_result",
          "data": {
            "text/plain": [
              "[<matplotlib.lines.Line2D at 0x7fbc90158eb8>,\n",
              " <matplotlib.lines.Line2D at 0x7fbc9014e0b8>,\n",
              " <matplotlib.lines.Line2D at 0x7fbc9014e1d0>]"
            ]
          },
          "metadata": {
            "tags": []
          },
          "execution_count": 32
        },
        {
          "output_type": "display_data",
          "data": {
            "image/png": "[encoded data removed]",
            "text/plain": [
              "<Figure size 432x288 with 1 Axes>"
            ]
          },
          "metadata": {
            "tags": [],
            "needs_background": "light"
          }
        }
      ]
    },
    {
      "cell_type": "code",
      "metadata": {
        "colab_type": "code",
        "outputId": "a73465a6-4936-4a90-f0cc-056712eff6fc",
        "id": "ixC2F0khuai4",
        "colab": {
          "base_uri": "https://localhost:8080/",
          "height": 349
        }
      },
      "source": [
        "\n",
        "print(metrics.log_loss(test_labels,\n",
        "                       test_preds,eps=1e-7))\n",
        "print(metrics.log_loss(test_labels,\n",
        "                       temperature_test_preds,eps=1e-7))\n",
        "y1,x1 =  calibration.calibration_curve( test_labels, test_preds, normalize=False, n_bins=5)\n",
        "y2,x2 =  calibration.calibration_curve( test_labels, temperature_test_preds, normalize=False, n_bins=5)\n",
        "plt.plot(x1,y1,'bo--',x2,y2,'ko--',[0,1],[0,1],'m')"
      ],
      "execution_count": 0,
      "outputs": [
        {
          "output_type": "stream",
          "text": [
            "0.4417057817749862\n",
            "0.4417057817749862\n"
          ],
          "name": "stdout"
        },
        {
          "output_type": "execute_result",
          "data": {
            "text/plain": [
              "[<matplotlib.lines.Line2D at 0x7fbc90096c18>,\n",
              " <matplotlib.lines.Line2D at 0x7fbc90096dd8>,\n",
              " <matplotlib.lines.Line2D at 0x7fbc90096ef0>]"
            ]
          },
          "metadata": {
            "tags": []
          },
          "execution_count": 34
        },
        {
          "output_type": "display_data",
          "data": {
            "image/png": "[encoded data removed]",
            "text/plain": [
              "<Figure size 432x288 with 1 Axes>"
            ]
          },
          "metadata": {
            "tags": [],
            "needs_background": "light"
          }
        }
      ]
    },
    {
      "cell_type": "code",
      "metadata": {
        "id": "vHGhouuiwNIw",
        "colab_type": "code",
        "colab": {}
      },
      "source": [
        "data = [accuracy_confidence(temperature_test_preds,test_labels,t) for t in [0.05,0.1,0.2,0.3,0.4,0.5]]\n",
        "acc = [x[0] for x in data]\n",
        "cov = [x[1] for x in data]\n",
        "print(acc)\n",
        "print(cov)"
      ],
      "execution_count": 0,
      "outputs": []
    },
    {
      "cell_type": "code",
      "metadata": {
        "id": "e-uii2r7CU1H",
        "colab_type": "code",
        "colab": {}
      },
      "source": [
        ""
      ],
      "execution_count": 0,
      "outputs": []
    }
  ]
}